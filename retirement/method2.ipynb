{
 "cells": [
  {
   "cell_type": "code",
   "execution_count": 2,
   "metadata": {},
   "outputs": [],
   "source": [
    "from __future__ import division\n",
    "from __future__ import print_function\n",
    "import numpy as np\n",
    "import pandas as pd\n",
    "import matplotlib.pyplot as plt\n",
    "import scipy.optimize as sci_op\n",
    "# from WindPy import *\n",
    "from functools import reduce\n",
    "import datetime"
   ]
  },
  {
   "cell_type": "code",
   "execution_count": 15,
   "metadata": {},
   "outputs": [],
   "source": [
    "np.set_printoptions(precision=2)"
   ]
  },
  {
   "cell_type": "markdown",
   "metadata": {},
   "source": [
    "### get_data"
   ]
  },
  {
   "cell_type": "code",
   "execution_count": 70,
   "metadata": {},
   "outputs": [],
   "source": [
    "data=pd.read_excel('./data/value.xlsx')\n",
    "data.set_index('Date',inplace=True)"
   ]
  },
  {
   "cell_type": "code",
   "execution_count": 107,
   "metadata": {},
   "outputs": [],
   "source": [
    "tmp=data.loc[(data.index>'2015-01-01')&(data.index<'2017-01-01'),:]\n",
    "rets=np.log(tmp/tmp.shift(1))\n",
    "rets.dropna(inplace=True)"
   ]
  },
  {
   "cell_type": "code",
   "execution_count": 72,
   "metadata": {},
   "outputs": [
    {
     "data": {
      "text/html": [
       "<div>\n",
       "<style scoped>\n",
       "    .dataframe tbody tr th:only-of-type {\n",
       "        vertical-align: middle;\n",
       "    }\n",
       "\n",
       "    .dataframe tbody tr th {\n",
       "        vertical-align: top;\n",
       "    }\n",
       "\n",
       "    .dataframe thead th {\n",
       "        text-align: right;\n",
       "    }\n",
       "</style>\n",
       "<table border=\"1\" class=\"dataframe\">\n",
       "  <thead>\n",
       "    <tr style=\"text-align: right;\">\n",
       "      <th></th>\n",
       "      <th>510900.OF</th>\n",
       "      <th>000359.OF</th>\n",
       "      <th>110010.OF</th>\n",
       "      <th>110023.OF</th>\n",
       "      <th>159934.OF</th>\n",
       "      <th>110030.OF</th>\n",
       "      <th>161117.OF</th>\n",
       "      <th>000111.OF</th>\n",
       "    </tr>\n",
       "    <tr>\n",
       "      <th>Date</th>\n",
       "      <th></th>\n",
       "      <th></th>\n",
       "      <th></th>\n",
       "      <th></th>\n",
       "      <th></th>\n",
       "      <th></th>\n",
       "      <th></th>\n",
       "      <th></th>\n",
       "    </tr>\n",
       "  </thead>\n",
       "  <tbody>\n",
       "    <tr>\n",
       "      <th>2015-01-06</th>\n",
       "      <td>-0.016554</td>\n",
       "      <td>0.000129</td>\n",
       "      <td>0.017301</td>\n",
       "      <td>0.032561</td>\n",
       "      <td>0.007831</td>\n",
       "      <td>0.000291</td>\n",
       "      <td>0.000933</td>\n",
       "      <td>0.000000</td>\n",
       "    </tr>\n",
       "    <tr>\n",
       "      <th>2015-01-07</th>\n",
       "      <td>0.000444</td>\n",
       "      <td>0.000128</td>\n",
       "      <td>-0.003811</td>\n",
       "      <td>-0.009195</td>\n",
       "      <td>0.002597</td>\n",
       "      <td>-0.000989</td>\n",
       "      <td>0.000000</td>\n",
       "      <td>0.000000</td>\n",
       "    </tr>\n",
       "    <tr>\n",
       "      <th>2015-01-08</th>\n",
       "      <td>0.003190</td>\n",
       "      <td>0.000129</td>\n",
       "      <td>0.000599</td>\n",
       "      <td>0.003842</td>\n",
       "      <td>-0.001607</td>\n",
       "      <td>-0.020935</td>\n",
       "      <td>0.000000</td>\n",
       "      <td>0.000000</td>\n",
       "    </tr>\n",
       "    <tr>\n",
       "      <th>2015-01-09</th>\n",
       "      <td>0.004237</td>\n",
       "      <td>0.000155</td>\n",
       "      <td>0.004106</td>\n",
       "      <td>-0.001535</td>\n",
       "      <td>0.000701</td>\n",
       "      <td>-0.001725</td>\n",
       "      <td>0.000000</td>\n",
       "      <td>0.001919</td>\n",
       "    </tr>\n",
       "    <tr>\n",
       "      <th>2015-01-12</th>\n",
       "      <td>-0.005654</td>\n",
       "      <td>0.000377</td>\n",
       "      <td>0.012072</td>\n",
       "      <td>0.012214</td>\n",
       "      <td>0.011716</td>\n",
       "      <td>-0.007889</td>\n",
       "      <td>0.001864</td>\n",
       "      <td>0.000000</td>\n",
       "    </tr>\n",
       "  </tbody>\n",
       "</table>\n",
       "</div>"
      ],
      "text/plain": [
       "            510900.OF  000359.OF  110010.OF  110023.OF  159934.OF  110030.OF  \\\n",
       "Date                                                                           \n",
       "2015-01-06  -0.016554   0.000129   0.017301   0.032561   0.007831   0.000291   \n",
       "2015-01-07   0.000444   0.000128  -0.003811  -0.009195   0.002597  -0.000989   \n",
       "2015-01-08   0.003190   0.000129   0.000599   0.003842  -0.001607  -0.020935   \n",
       "2015-01-09   0.004237   0.000155   0.004106  -0.001535   0.000701  -0.001725   \n",
       "2015-01-12  -0.005654   0.000377   0.012072   0.012214   0.011716  -0.007889   \n",
       "\n",
       "            161117.OF  000111.OF  \n",
       "Date                              \n",
       "2015-01-06   0.000933   0.000000  \n",
       "2015-01-07   0.000000   0.000000  \n",
       "2015-01-08   0.000000   0.000000  \n",
       "2015-01-09   0.000000   0.001919  \n",
       "2015-01-12   0.001864   0.000000  "
      ]
     },
     "execution_count": 72,
     "metadata": {},
     "output_type": "execute_result"
    }
   ],
   "source": [
    "rets.head()"
   ]
  },
  {
   "cell_type": "code",
   "execution_count": 110,
   "metadata": {},
   "outputs": [
    {
     "data": {
      "text/plain": [
       "<matplotlib.axes._subplots.AxesSubplot at 0x10da40c50>"
      ]
     },
     "execution_count": 110,
     "metadata": {},
     "output_type": "execute_result"
    },
    {
     "data": {
      "image/png": "[encoded data removed]",
      "text/plain": [
       "<Figure size 432x288 with 1 Axes>"
      ]
     },
     "metadata": {},
     "output_type": "display_data"
    }
   ],
   "source": [
    "rets.iloc[:,1].plot(kind='kde')"
   ]
  },
  {
   "cell_type": "code",
   "execution_count": null,
   "metadata": {},
   "outputs": [],
   "source": []
  },
  {
   "cell_type": "markdown",
   "metadata": {},
   "source": [
    "### reference_weights"
   ]
  },
  {
   "cell_type": "code",
   "execution_count": 75,
   "metadata": {},
   "outputs": [],
   "source": [
    "wage=10\n",
    "l_wage=10*(1.04**30)\n",
    "save=3\n",
    "incre1=1+0.06\n",
    "incre2=1+0.03\n",
    "infla=1+0.03\n",
    "use=15"
   ]
  },
  {
   "cell_type": "code",
   "execution_count": 76,
   "metadata": {},
   "outputs": [
    {
     "data": {
      "text/plain": [
       "[<matplotlib.lines.Line2D at 0x10da27860>]"
      ]
     },
     "execution_count": 76,
     "metadata": {},
     "output_type": "execute_result"
    },
    {
     "data": {
      "image/png": "[encoded data removed]",
      "text/plain": [
       "<Figure size 432x288 with 1 Axes>"
      ]
     },
     "metadata": {},
     "output_type": "display_data"
    }
   ],
   "source": [
    "dic_returns={}\n",
    "years=[]\n",
    "rates=[]\n",
    "refer_rates={}\n",
    "dic_returns[35]=10\n",
    "for year in range(36,86):\n",
    "    if year<67:\n",
    "        dic_returns[year]=dic_returns[year-1]*incre1+save\n",
    "        rate=dic_returns[year]/l_wage\n",
    "    else:\n",
    "        dic_returns[year]=dic_returns[year-1]*incre2-use\n",
    "        rate=dic_returns[year]/l_wage\n",
    "    refer_rates[year]=rate\n",
    "#     print(year,dic_returns[year])\n",
    "    years.append(year)\n",
    "    rates.append(rate)\n",
    "plt.plot(years,rates)"
   ]
  },
  {
   "cell_type": "markdown",
   "metadata": {},
   "source": [
    "### find_weights"
   ]
  },
  {
   "cell_type": "code",
   "execution_count": 91,
   "metadata": {},
   "outputs": [],
   "source": [
    "def fun_expected_returns(weights):\n",
    "    expected_returns=[]\n",
    "    x1=weights[0:8]\n",
    "    x2=weights[8:16]\n",
    "    x3=weights[16:24]\n",
    "#     print(x3)\n",
    "    for year in range(35,50):\n",
    "        return1=[]\n",
    "        for j in range(252):\n",
    "            a=np.random.randint(rets.shape[0])\n",
    "#             print(x1)\n",
    "#             print(rets.iloc[a,:])\n",
    "            return1.append(np.sum(x1*rets.iloc[a,:])+1)\n",
    "        expected_returns.append(np.prod(np.array(return1))-1)\n",
    "    for year in range(50,75):\n",
    "        return1=[]\n",
    "        for j in range(252):\n",
    "            a=np.random.randint(rets.shape[0])\n",
    "            return1.append(np.sum(x2*rets.iloc[a,:])+1)\n",
    "        expected_returns.append(np.prod(np.array(return1))-1)\n",
    "    for year in range(75,86):\n",
    "        return1=[]\n",
    "        for j in range(252):\n",
    "            a=np.random.randint(rets.shape[0])\n",
    "            return1.append(np.sum(x3*rets.iloc[a,:])+1)\n",
    "        expected_returns.append(np.prod(np.array(return1))-1)\n",
    "    return expected_returns\n"
   ]
  },
  {
   "cell_type": "code",
   "execution_count": 108,
   "metadata": {},
   "outputs": [],
   "source": [
    "def fun_utility_accumulation(weights):\n",
    "    min_utility_list=[]\n",
    "    for i in range(100):\n",
    "        expected_returns=fun_expected_returns(weights)\n",
    "    #         print(expected_returns)\n",
    "        dic_returns1={}\n",
    "        utility_list=[]\n",
    "        dic_returns1[35]=10\n",
    "        for year in range(35,85):\n",
    "            if year<66:\n",
    "                ex_wealth=dic_returns1[year]*(1+expected_returns[year-35])+save\n",
    "            else:\n",
    "                ex_wealth=dic_returns1[year]*(1+expected_returns[year-35])-use\n",
    "            ex_rate=ex_wealth/l_wage\n",
    "            if ex_rate>refer_rates[year+1]:\n",
    "                utility=ex_rate-refer_rates[year+1]\n",
    "            else:\n",
    "                utility=2*(ex_rate-refer_rates[year+1])\n",
    "            utility_list.append(utility)\n",
    "            dic_returns1[year+1]=ex_wealth\n",
    "            \n",
    "        min_utility_list.append(np.sum(utility_list))\n",
    "    print(weights,np.min(min_utility_list))\n",
    "    return -np.min(min_utility_list)"
   ]
  },
  {
   "cell_type": "code",
   "execution_count": 99,
   "metadata": {},
   "outputs": [],
   "source": [
    "def get_weights_accumulation():\n",
    "    constraints = ({'type':'eq', 'fun':lambda x: np.sum(x[0:8])-1.},\n",
    "                {'type':'eq', 'fun':lambda x: np.sum(x[8:16])-1.},\n",
    "                  {'type':'eq', 'fun':lambda x: np.sum(x[16:24])-1.},)\n",
    "\n",
    "    \n",
    "    weights=np.random.random(24)\n",
    "    weights[0:8] /= np.sum(weights[0:8])\n",
    "    weights[8:16] /= np.sum(weights[8:16])\n",
    "    weights[16:24] /= np.sum(weights[16:24])\n",
    "\n",
    "    bounds = tuple((0,1) for x in range(24))\n",
    "\n",
    "    initial_guess = weights\n",
    "#     print(weights)\n",
    "    opts = sci_op.minimize(fun=fun_utility_accumulation,\n",
    "                           x0=initial_guess,\n",
    "                           method='SLSQP',bounds=bounds,\n",
    "                           constraints=constraints)\n",
    "        \n",
    "    return opts['x']"
   ]
  },
  {
   "cell_type": "code",
   "execution_count": 109,
   "metadata": {},
   "outputs": [
    {
     "name": "stdout",
     "output_type": "stream",
     "text": [
      "[0.21078079 0.02938993 0.05546124 0.18583145 0.23847135 0.01798114\n",
      " 0.18124987 0.08083423 0.00970819 0.14867167 0.05298712 0.14752664\n",
      " 0.0926763  0.15683931 0.13202141 0.25956936 0.15228003 0.0039031\n",
      " 0.10312429 0.11472779 0.20734669 0.19534047 0.10807339 0.11520424] -651.2721838998733\n",
      "[0.21078079 0.02938993 0.05546124 0.18583145 0.23847135 0.01798114\n",
      " 0.18124987 0.08083423 0.00970819 0.14867167 0.05298712 0.14752664\n",
      " 0.0926763  0.15683931 0.13202141 0.25956936 0.15228003 0.0039031\n",
      " 0.10312429 0.11472779 0.20734669 0.19534047 0.10807339 0.11520424] -551.2991922872106\n",
      "[0.2107808  0.02938993 0.05546124 0.18583145 0.23847135 0.01798114\n",
      " 0.18124987 0.08083423 0.00970819 0.14867167 0.05298712 0.14752664\n",
      " 0.0926763  0.15683931 0.13202141 0.25956936 0.15228003 0.0039031\n",
      " 0.10312429 0.11472779 0.20734669 0.19534047 0.10807339 0.11520424] -517.2293713315889\n",
      "[0.21078079 0.02938995 0.05546124 0.18583145 0.23847135 0.01798114\n",
      " 0.18124987 0.08083423 0.00970819 0.14867167 0.05298712 0.14752664\n",
      " 0.0926763  0.15683931 0.13202141 0.25956936 0.15228003 0.0039031\n",
      " 0.10312429 0.11472779 0.20734669 0.19534047 0.10807339 0.11520424] -528.2815521428955\n",
      "[0.21078079 0.02938993 0.05546125 0.18583145 0.23847135 0.01798114\n",
      " 0.18124987 0.08083423 0.00970819 0.14867167 0.05298712 0.14752664\n",
      " 0.0926763  0.15683931 0.13202141 0.25956936 0.15228003 0.0039031\n",
      " 0.10312429 0.11472779 0.20734669 0.19534047 0.10807339 0.11520424] -550.4695018410596\n",
      "[0.21078079 0.02938993 0.05546124 0.18583146 0.23847135 0.01798114\n",
      " 0.18124987 0.08083423 0.00970819 0.14867167 0.05298712 0.14752664\n",
      " 0.0926763  0.15683931 0.13202141 0.25956936 0.15228003 0.0039031\n",
      " 0.10312429 0.11472779 0.20734669 0.19534047 0.10807339 0.11520424] -524.8417581583626\n",
      "[0.21078079 0.02938993 0.05546124 0.18583145 0.23847137 0.01798114\n",
      " 0.18124987 0.08083423 0.00970819 0.14867167 0.05298712 0.14752664\n",
      " 0.0926763  0.15683931 0.13202141 0.25956936 0.15228003 0.0039031\n",
      " 0.10312429 0.11472779 0.20734669 0.19534047 0.10807339 0.11520424] -630.3424729887887\n",
      "[0.21078079 0.02938993 0.05546124 0.18583145 0.23847135 0.01798115\n",
      " 0.18124987 0.08083423 0.00970819 0.14867167 0.05298712 0.14752664\n",
      " 0.0926763  0.15683931 0.13202141 0.25956936 0.15228003 0.0039031\n",
      " 0.10312429 0.11472779 0.20734669 0.19534047 0.10807339 0.11520424] -526.1097323535644\n",
      "[0.21078079 0.02938993 0.05546124 0.18583145 0.23847135 0.01798114\n",
      " 0.18124988 0.08083423 0.00970819 0.14867167 0.05298712 0.14752664\n",
      " 0.0926763  0.15683931 0.13202141 0.25956936 0.15228003 0.0039031\n",
      " 0.10312429 0.11472779 0.20734669 0.19534047 0.10807339 0.11520424] -560.7302886890523\n",
      "[0.21078079 0.02938993 0.05546124 0.18583145 0.23847135 0.01798114\n",
      " 0.18124987 0.08083425 0.00970819 0.14867167 0.05298712 0.14752664\n",
      " 0.0926763  0.15683931 0.13202141 0.25956936 0.15228003 0.0039031\n",
      " 0.10312429 0.11472779 0.20734669 0.19534047 0.10807339 0.11520424] -549.4530339295736\n",
      "[0.21078079 0.02938993 0.05546124 0.18583145 0.23847135 0.01798114\n",
      " 0.18124987 0.08083423 0.0097082  0.14867167 0.05298712 0.14752664\n",
      " 0.0926763  0.15683931 0.13202141 0.25956936 0.15228003 0.0039031\n",
      " 0.10312429 0.11472779 0.20734669 0.19534047 0.10807339 0.11520424] -523.9809999112156\n",
      "[0.21078079 0.02938993 0.05546124 0.18583145 0.23847135 0.01798114\n",
      " 0.18124987 0.08083423 0.00970819 0.14867169 0.05298712 0.14752664\n",
      " 0.0926763  0.15683931 0.13202141 0.25956936 0.15228003 0.0039031\n",
      " 0.10312429 0.11472779 0.20734669 0.19534047 0.10807339 0.11520424] -509.9750701250558\n",
      "[0.21078079 0.02938993 0.05546124 0.18583145 0.23847135 0.01798114\n",
      " 0.18124987 0.08083423 0.00970819 0.14867167 0.05298714 0.14752664\n",
      " 0.0926763  0.15683931 0.13202141 0.25956936 0.15228003 0.0039031\n",
      " 0.10312429 0.11472779 0.20734669 0.19534047 0.10807339 0.11520424] -579.4859125095363\n",
      "[0.21078079 0.02938993 0.05546124 0.18583145 0.23847135 0.01798114\n",
      " 0.18124987 0.08083423 0.00970819 0.14867167 0.05298712 0.14752665\n",
      " 0.0926763  0.15683931 0.13202141 0.25956936 0.15228003 0.0039031\n",
      " 0.10312429 0.11472779 0.20734669 0.19534047 0.10807339 0.11520424] -565.1797621093165\n",
      "[0.21078079 0.02938993 0.05546124 0.18583145 0.23847135 0.01798114\n",
      " 0.18124987 0.08083423 0.00970819 0.14867167 0.05298712 0.14752664\n",
      " 0.09267631 0.15683931 0.13202141 0.25956936 0.15228003 0.0039031\n",
      " 0.10312429 0.11472779 0.20734669 0.19534047 0.10807339 0.11520424] -625.4562933230535\n",
      "[0.21078079 0.02938993 0.05546124 0.18583145 0.23847135 0.01798114\n",
      " 0.18124987 0.08083423 0.00970819 0.14867167 0.05298712 0.14752664\n",
      " 0.0926763  0.15683933 0.13202141 0.25956936 0.15228003 0.0039031\n",
      " 0.10312429 0.11472779 0.20734669 0.19534047 0.10807339 0.11520424] -560.1563728964173\n",
      "[0.21078079 0.02938993 0.05546124 0.18583145 0.23847135 0.01798114\n",
      " 0.18124987 0.08083423 0.00970819 0.14867167 0.05298712 0.14752664\n",
      " 0.0926763  0.15683931 0.13202143 0.25956936 0.15228003 0.0039031\n",
      " 0.10312429 0.11472779 0.20734669 0.19534047 0.10807339 0.11520424] -564.3123081559737\n",
      "[0.21078079 0.02938993 0.05546124 0.18583145 0.23847135 0.01798114\n",
      " 0.18124987 0.08083423 0.00970819 0.14867167 0.05298712 0.14752664\n",
      " 0.0926763  0.15683931 0.13202141 0.25956938 0.15228003 0.0039031\n",
      " 0.10312429 0.11472779 0.20734669 0.19534047 0.10807339 0.11520424] -553.5468864068068\n",
      "[0.21078079 0.02938993 0.05546124 0.18583145 0.23847135 0.01798114\n",
      " 0.18124987 0.08083423 0.00970819 0.14867167 0.05298712 0.14752664\n",
      " 0.0926763  0.15683931 0.13202141 0.25956936 0.15228005 0.0039031\n",
      " 0.10312429 0.11472779 0.20734669 0.19534047 0.10807339 0.11520424] -570.1784054864756\n",
      "[0.21078079 0.02938993 0.05546124 0.18583145 0.23847135 0.01798114\n",
      " 0.18124987 0.08083423 0.00970819 0.14867167 0.05298712 0.14752664\n",
      " 0.0926763  0.15683931 0.13202141 0.25956936 0.15228003 0.00390312\n",
      " 0.10312429 0.11472779 0.20734669 0.19534047 0.10807339 0.11520424] -530.6665763315095\n",
      "[0.21078079 0.02938993 0.05546124 0.18583145 0.23847135 0.01798114\n",
      " 0.18124987 0.08083423 0.00970819 0.14867167 0.05298712 0.14752664\n",
      " 0.0926763  0.15683931 0.13202141 0.25956936 0.15228003 0.0039031\n",
      " 0.1031243  0.11472779 0.20734669 0.19534047 0.10807339 0.11520424] -556.2731229867842\n",
      "[0.21078079 0.02938993 0.05546124 0.18583145 0.23847135 0.01798114\n",
      " 0.18124987 0.08083423 0.00970819 0.14867167 0.05298712 0.14752664\n",
      " 0.0926763  0.15683931 0.13202141 0.25956936 0.15228003 0.0039031\n",
      " 0.10312429 0.1147278  0.20734669 0.19534047 0.10807339 0.11520424] -531.9755226211803\n",
      "[0.21078079 0.02938993 0.05546124 0.18583145 0.23847135 0.01798114\n",
      " 0.18124987 0.08083423 0.00970819 0.14867167 0.05298712 0.14752664\n",
      " 0.0926763  0.15683931 0.13202141 0.25956936 0.15228003 0.0039031\n",
      " 0.10312429 0.11472779 0.2073467  0.19534047 0.10807339 0.11520424] -535.4485344116007\n",
      "[0.21078079 0.02938993 0.05546124 0.18583145 0.23847135 0.01798114\n",
      " 0.18124987 0.08083423 0.00970819 0.14867167 0.05298712 0.14752664\n",
      " 0.0926763  0.15683931 0.13202141 0.25956936 0.15228003 0.0039031\n",
      " 0.10312429 0.11472779 0.20734669 0.19534049 0.10807339 0.11520424] -537.9345315248063\n"
     ]
    },
    {
     "ename": "KeyboardInterrupt",
     "evalue": "",
     "output_type": "error",
     "traceback": [
      "\u001b[0;31m---------------------------------------------------------------------------\u001b[0m",
      "\u001b[0;31mKeyboardInterrupt\u001b[0m                         Traceback (most recent call last)",
      "\u001b[0;32m<ipython-input-109-f2fef956ad33>\u001b[0m in \u001b[0;36m<module>\u001b[0;34m()\u001b[0m\n\u001b[0;32m----> 1\u001b[0;31m \u001b[0mget_weights_accumulation\u001b[0m\u001b[0;34m(\u001b[0m\u001b[0;34m)\u001b[0m\u001b[0;34m\u001b[0m\u001b[0m\n\u001b[0m",
      "\u001b[0;32m<ipython-input-99-2fb234d32e86>\u001b[0m in \u001b[0;36mget_weights_accumulation\u001b[0;34m()\u001b[0m\n\u001b[1;32m     17\u001b[0m                            \u001b[0mx0\u001b[0m\u001b[0;34m=\u001b[0m\u001b[0minitial_guess\u001b[0m\u001b[0;34m,\u001b[0m\u001b[0;34m\u001b[0m\u001b[0m\n\u001b[1;32m     18\u001b[0m                            \u001b[0mmethod\u001b[0m\u001b[0;34m=\u001b[0m\u001b[0;34m'SLSQP'\u001b[0m\u001b[0;34m,\u001b[0m\u001b[0mbounds\u001b[0m\u001b[0;34m=\u001b[0m\u001b[0mbounds\u001b[0m\u001b[0;34m,\u001b[0m\u001b[0;34m\u001b[0m\u001b[0m\n\u001b[0;32m---> 19\u001b[0;31m                            constraints=constraints)\n\u001b[0m\u001b[1;32m     20\u001b[0m \u001b[0;34m\u001b[0m\u001b[0m\n\u001b[1;32m     21\u001b[0m     \u001b[0;32mreturn\u001b[0m \u001b[0mopts\u001b[0m\u001b[0;34m[\u001b[0m\u001b[0;34m'x'\u001b[0m\u001b[0;34m]\u001b[0m\u001b[0;34m\u001b[0m\u001b[0m\n",
      "\u001b[0;32m/usr/local/lib/python3.6/site-packages/scipy/optimize/_minimize.py\u001b[0m in \u001b[0;36mminimize\u001b[0;34m(fun, x0, args, method, jac, hess, hessp, bounds, constraints, tol, callback, options)\u001b[0m\n\u001b[1;32m    493\u001b[0m     \u001b[0;32melif\u001b[0m \u001b[0mmeth\u001b[0m \u001b[0;34m==\u001b[0m \u001b[0;34m'slsqp'\u001b[0m\u001b[0;34m:\u001b[0m\u001b[0;34m\u001b[0m\u001b[0m\n\u001b[1;32m    494\u001b[0m         return _minimize_slsqp(fun, x0, args, jac, bounds,\n\u001b[0;32m--> 495\u001b[0;31m                                constraints, callback=callback, **options)\n\u001b[0m\u001b[1;32m    496\u001b[0m     \u001b[0;32melif\u001b[0m \u001b[0mmeth\u001b[0m \u001b[0;34m==\u001b[0m \u001b[0;34m'dogleg'\u001b[0m\u001b[0;34m:\u001b[0m\u001b[0;34m\u001b[0m\u001b[0m\n\u001b[1;32m    497\u001b[0m         return _minimize_dogleg(fun, x0, args, jac, hess,\n",
      "\u001b[0;32m/usr/local/lib/python3.6/site-packages/scipy/optimize/slsqp.py\u001b[0m in \u001b[0;36m_minimize_slsqp\u001b[0;34m(func, x0, args, jac, bounds, constraints, maxiter, ftol, iprint, disp, eps, callback, **unknown_options)\u001b[0m\n\u001b[1;32m    400\u001b[0m             \u001b[0;31m# Compute the derivatives of the objective function\u001b[0m\u001b[0;34m\u001b[0m\u001b[0;34m\u001b[0m\u001b[0m\n\u001b[1;32m    401\u001b[0m             \u001b[0;31m# For some reason SLSQP wants g dimensioned to n+1\u001b[0m\u001b[0;34m\u001b[0m\u001b[0;34m\u001b[0m\u001b[0m\n\u001b[0;32m--> 402\u001b[0;31m             \u001b[0mg\u001b[0m \u001b[0;34m=\u001b[0m \u001b[0mappend\u001b[0m\u001b[0;34m(\u001b[0m\u001b[0mfprime\u001b[0m\u001b[0;34m(\u001b[0m\u001b[0mx\u001b[0m\u001b[0;34m)\u001b[0m\u001b[0;34m,\u001b[0m \u001b[0;36m0.0\u001b[0m\u001b[0;34m)\u001b[0m\u001b[0;34m\u001b[0m\u001b[0m\n\u001b[0m\u001b[1;32m    403\u001b[0m \u001b[0;34m\u001b[0m\u001b[0m\n\u001b[1;32m    404\u001b[0m             \u001b[0;31m# Compute the normals of the constraints\u001b[0m\u001b[0;34m\u001b[0m\u001b[0;34m\u001b[0m\u001b[0m\n",
      "\u001b[0;32m/usr/local/lib/python3.6/site-packages/scipy/optimize/optimize.py\u001b[0m in \u001b[0;36mfunction_wrapper\u001b[0;34m(*wrapper_args)\u001b[0m\n\u001b[1;32m    290\u001b[0m     \u001b[0;32mdef\u001b[0m \u001b[0mfunction_wrapper\u001b[0m\u001b[0;34m(\u001b[0m\u001b[0;34m*\u001b[0m\u001b[0mwrapper_args\u001b[0m\u001b[0;34m)\u001b[0m\u001b[0;34m:\u001b[0m\u001b[0;34m\u001b[0m\u001b[0m\n\u001b[1;32m    291\u001b[0m         \u001b[0mncalls\u001b[0m\u001b[0;34m[\u001b[0m\u001b[0;36m0\u001b[0m\u001b[0;34m]\u001b[0m \u001b[0;34m+=\u001b[0m \u001b[0;36m1\u001b[0m\u001b[0;34m\u001b[0m\u001b[0m\n\u001b[0;32m--> 292\u001b[0;31m         \u001b[0;32mreturn\u001b[0m \u001b[0mfunction\u001b[0m\u001b[0;34m(\u001b[0m\u001b[0;34m*\u001b[0m\u001b[0;34m(\u001b[0m\u001b[0mwrapper_args\u001b[0m \u001b[0;34m+\u001b[0m \u001b[0margs\u001b[0m\u001b[0;34m)\u001b[0m\u001b[0;34m)\u001b[0m\u001b[0;34m\u001b[0m\u001b[0m\n\u001b[0m\u001b[1;32m    293\u001b[0m \u001b[0;34m\u001b[0m\u001b[0m\n\u001b[1;32m    294\u001b[0m     \u001b[0;32mreturn\u001b[0m \u001b[0mncalls\u001b[0m\u001b[0;34m,\u001b[0m \u001b[0mfunction_wrapper\u001b[0m\u001b[0;34m\u001b[0m\u001b[0m\n",
      "\u001b[0;32m/usr/local/lib/python3.6/site-packages/scipy/optimize/slsqp.py\u001b[0m in \u001b[0;36mapprox_jacobian\u001b[0;34m(x, func, epsilon, *args)\u001b[0m\n\u001b[1;32m     61\u001b[0m     \u001b[0;32mfor\u001b[0m \u001b[0mi\u001b[0m \u001b[0;32min\u001b[0m \u001b[0mrange\u001b[0m\u001b[0;34m(\u001b[0m\u001b[0mlen\u001b[0m\u001b[0;34m(\u001b[0m\u001b[0mx0\u001b[0m\u001b[0;34m)\u001b[0m\u001b[0;34m)\u001b[0m\u001b[0;34m:\u001b[0m\u001b[0;34m\u001b[0m\u001b[0m\n\u001b[1;32m     62\u001b[0m         \u001b[0mdx\u001b[0m\u001b[0;34m[\u001b[0m\u001b[0mi\u001b[0m\u001b[0;34m]\u001b[0m \u001b[0;34m=\u001b[0m \u001b[0mepsilon\u001b[0m\u001b[0;34m\u001b[0m\u001b[0m\n\u001b[0;32m---> 63\u001b[0;31m         \u001b[0mjac\u001b[0m\u001b[0;34m[\u001b[0m\u001b[0mi\u001b[0m\u001b[0;34m]\u001b[0m \u001b[0;34m=\u001b[0m \u001b[0;34m(\u001b[0m\u001b[0mfunc\u001b[0m\u001b[0;34m(\u001b[0m\u001b[0;34m*\u001b[0m\u001b[0;34m(\u001b[0m\u001b[0;34m(\u001b[0m\u001b[0mx0\u001b[0m\u001b[0;34m+\u001b[0m\u001b[0mdx\u001b[0m\u001b[0;34m,\u001b[0m\u001b[0;34m)\u001b[0m\u001b[0;34m+\u001b[0m\u001b[0margs\u001b[0m\u001b[0;34m)\u001b[0m\u001b[0;34m)\u001b[0m \u001b[0;34m-\u001b[0m \u001b[0mf0\u001b[0m\u001b[0;34m)\u001b[0m\u001b[0;34m/\u001b[0m\u001b[0mepsilon\u001b[0m\u001b[0;34m\u001b[0m\u001b[0m\n\u001b[0m\u001b[1;32m     64\u001b[0m         \u001b[0mdx\u001b[0m\u001b[0;34m[\u001b[0m\u001b[0mi\u001b[0m\u001b[0;34m]\u001b[0m \u001b[0;34m=\u001b[0m \u001b[0;36m0.0\u001b[0m\u001b[0;34m\u001b[0m\u001b[0m\n\u001b[1;32m     65\u001b[0m \u001b[0;34m\u001b[0m\u001b[0m\n",
      "\u001b[0;32m/usr/local/lib/python3.6/site-packages/scipy/optimize/optimize.py\u001b[0m in \u001b[0;36mfunction_wrapper\u001b[0;34m(*wrapper_args)\u001b[0m\n\u001b[1;32m    290\u001b[0m     \u001b[0;32mdef\u001b[0m \u001b[0mfunction_wrapper\u001b[0m\u001b[0;34m(\u001b[0m\u001b[0;34m*\u001b[0m\u001b[0mwrapper_args\u001b[0m\u001b[0;34m)\u001b[0m\u001b[0;34m:\u001b[0m\u001b[0;34m\u001b[0m\u001b[0m\n\u001b[1;32m    291\u001b[0m         \u001b[0mncalls\u001b[0m\u001b[0;34m[\u001b[0m\u001b[0;36m0\u001b[0m\u001b[0;34m]\u001b[0m \u001b[0;34m+=\u001b[0m \u001b[0;36m1\u001b[0m\u001b[0;34m\u001b[0m\u001b[0m\n\u001b[0;32m--> 292\u001b[0;31m         \u001b[0;32mreturn\u001b[0m \u001b[0mfunction\u001b[0m\u001b[0;34m(\u001b[0m\u001b[0;34m*\u001b[0m\u001b[0;34m(\u001b[0m\u001b[0mwrapper_args\u001b[0m \u001b[0;34m+\u001b[0m \u001b[0margs\u001b[0m\u001b[0;34m)\u001b[0m\u001b[0;34m)\u001b[0m\u001b[0;34m\u001b[0m\u001b[0m\n\u001b[0m\u001b[1;32m    293\u001b[0m \u001b[0;34m\u001b[0m\u001b[0m\n\u001b[1;32m    294\u001b[0m     \u001b[0;32mreturn\u001b[0m \u001b[0mncalls\u001b[0m\u001b[0;34m,\u001b[0m \u001b[0mfunction_wrapper\u001b[0m\u001b[0;34m\u001b[0m\u001b[0m\n",
      "\u001b[0;32m<ipython-input-108-03c28941b217>\u001b[0m in \u001b[0;36mfun_utility_accumulation\u001b[0;34m(weights)\u001b[0m\n\u001b[1;32m      2\u001b[0m     \u001b[0mmin_utility_list\u001b[0m\u001b[0;34m=\u001b[0m\u001b[0;34m[\u001b[0m\u001b[0;34m]\u001b[0m\u001b[0;34m\u001b[0m\u001b[0m\n\u001b[1;32m      3\u001b[0m     \u001b[0;32mfor\u001b[0m \u001b[0mi\u001b[0m \u001b[0;32min\u001b[0m \u001b[0mrange\u001b[0m\u001b[0;34m(\u001b[0m\u001b[0;36m100\u001b[0m\u001b[0;34m)\u001b[0m\u001b[0;34m:\u001b[0m\u001b[0;34m\u001b[0m\u001b[0m\n\u001b[0;32m----> 4\u001b[0;31m         \u001b[0mexpected_returns\u001b[0m\u001b[0;34m=\u001b[0m\u001b[0mfun_expected_returns\u001b[0m\u001b[0;34m(\u001b[0m\u001b[0mweights\u001b[0m\u001b[0;34m)\u001b[0m\u001b[0;34m\u001b[0m\u001b[0m\n\u001b[0m\u001b[1;32m      5\u001b[0m     \u001b[0;31m#         print(expected_returns)\u001b[0m\u001b[0;34m\u001b[0m\u001b[0;34m\u001b[0m\u001b[0m\n\u001b[1;32m      6\u001b[0m         \u001b[0mdic_returns1\u001b[0m\u001b[0;34m=\u001b[0m\u001b[0;34m{\u001b[0m\u001b[0;34m}\u001b[0m\u001b[0;34m\u001b[0m\u001b[0m\n",
      "\u001b[0;32m<ipython-input-91-e796d3343e93>\u001b[0m in \u001b[0;36mfun_expected_returns\u001b[0;34m(weights)\u001b[0m\n\u001b[1;32m     23\u001b[0m         \u001b[0;32mfor\u001b[0m \u001b[0mj\u001b[0m \u001b[0;32min\u001b[0m \u001b[0mrange\u001b[0m\u001b[0;34m(\u001b[0m\u001b[0;36m252\u001b[0m\u001b[0;34m)\u001b[0m\u001b[0;34m:\u001b[0m\u001b[0;34m\u001b[0m\u001b[0m\n\u001b[1;32m     24\u001b[0m             \u001b[0ma\u001b[0m\u001b[0;34m=\u001b[0m\u001b[0mnp\u001b[0m\u001b[0;34m.\u001b[0m\u001b[0mrandom\u001b[0m\u001b[0;34m.\u001b[0m\u001b[0mrandint\u001b[0m\u001b[0;34m(\u001b[0m\u001b[0mrets\u001b[0m\u001b[0;34m.\u001b[0m\u001b[0mshape\u001b[0m\u001b[0;34m[\u001b[0m\u001b[0;36m0\u001b[0m\u001b[0;34m]\u001b[0m\u001b[0;34m)\u001b[0m\u001b[0;34m\u001b[0m\u001b[0m\n\u001b[0;32m---> 25\u001b[0;31m             \u001b[0mreturn1\u001b[0m\u001b[0;34m.\u001b[0m\u001b[0mappend\u001b[0m\u001b[0;34m(\u001b[0m\u001b[0mnp\u001b[0m\u001b[0;34m.\u001b[0m\u001b[0msum\u001b[0m\u001b[0;34m(\u001b[0m\u001b[0mx3\u001b[0m\u001b[0;34m*\u001b[0m\u001b[0mrets\u001b[0m\u001b[0;34m.\u001b[0m\u001b[0miloc\u001b[0m\u001b[0;34m[\u001b[0m\u001b[0ma\u001b[0m\u001b[0;34m,\u001b[0m\u001b[0;34m:\u001b[0m\u001b[0;34m]\u001b[0m\u001b[0;34m)\u001b[0m\u001b[0;34m+\u001b[0m\u001b[0;36m1\u001b[0m\u001b[0;34m)\u001b[0m\u001b[0;34m\u001b[0m\u001b[0m\n\u001b[0m\u001b[1;32m     26\u001b[0m         \u001b[0mexpected_returns\u001b[0m\u001b[0;34m.\u001b[0m\u001b[0mappend\u001b[0m\u001b[0;34m(\u001b[0m\u001b[0mnp\u001b[0m\u001b[0;34m.\u001b[0m\u001b[0mprod\u001b[0m\u001b[0;34m(\u001b[0m\u001b[0mnp\u001b[0m\u001b[0;34m.\u001b[0m\u001b[0marray\u001b[0m\u001b[0;34m(\u001b[0m\u001b[0mreturn1\u001b[0m\u001b[0;34m)\u001b[0m\u001b[0;34m)\u001b[0m\u001b[0;34m-\u001b[0m\u001b[0;36m1\u001b[0m\u001b[0;34m)\u001b[0m\u001b[0;34m\u001b[0m\u001b[0m\n\u001b[1;32m     27\u001b[0m     \u001b[0;32mreturn\u001b[0m \u001b[0mexpected_returns\u001b[0m\u001b[0;34m\u001b[0m\u001b[0m\n",
      "\u001b[0;32m/usr/local/lib/python3.6/site-packages/pandas/core/ops.py\u001b[0m in \u001b[0;36mwrapper\u001b[0;34m(left, right, name, na_op)\u001b[0m\n\u001b[1;32m    737\u001b[0m                 \u001b[0mlvalues\u001b[0m \u001b[0;34m=\u001b[0m \u001b[0mlvalues\u001b[0m\u001b[0;34m.\u001b[0m\u001b[0mvalues\u001b[0m\u001b[0;34m\u001b[0m\u001b[0m\n\u001b[1;32m    738\u001b[0m \u001b[0;34m\u001b[0m\u001b[0m\n\u001b[0;32m--> 739\u001b[0;31m         \u001b[0mresult\u001b[0m \u001b[0;34m=\u001b[0m \u001b[0mwrap_results\u001b[0m\u001b[0;34m(\u001b[0m\u001b[0msafe_na_op\u001b[0m\u001b[0;34m(\u001b[0m\u001b[0mlvalues\u001b[0m\u001b[0;34m,\u001b[0m \u001b[0mrvalues\u001b[0m\u001b[0;34m)\u001b[0m\u001b[0;34m)\u001b[0m\u001b[0;34m\u001b[0m\u001b[0m\n\u001b[0m\u001b[1;32m    740\u001b[0m         return construct_result(\n\u001b[1;32m    741\u001b[0m             \u001b[0mleft\u001b[0m\u001b[0;34m,\u001b[0m\u001b[0;34m\u001b[0m\u001b[0m\n",
      "\u001b[0;32m/usr/local/lib/python3.6/site-packages/pandas/core/ops.py\u001b[0m in \u001b[0;36msafe_na_op\u001b[0;34m(lvalues, rvalues)\u001b[0m\n\u001b[1;32m    697\u001b[0m     \u001b[0;32mdef\u001b[0m \u001b[0msafe_na_op\u001b[0m\u001b[0;34m(\u001b[0m\u001b[0mlvalues\u001b[0m\u001b[0;34m,\u001b[0m \u001b[0mrvalues\u001b[0m\u001b[0;34m)\u001b[0m\u001b[0;34m:\u001b[0m\u001b[0;34m\u001b[0m\u001b[0m\n\u001b[1;32m    698\u001b[0m         \u001b[0;32mtry\u001b[0m\u001b[0;34m:\u001b[0m\u001b[0;34m\u001b[0m\u001b[0m\n\u001b[0;32m--> 699\u001b[0;31m             \u001b[0;32mwith\u001b[0m \u001b[0mnp\u001b[0m\u001b[0;34m.\u001b[0m\u001b[0merrstate\u001b[0m\u001b[0;34m(\u001b[0m\u001b[0mall\u001b[0m\u001b[0;34m=\u001b[0m\u001b[0;34m'ignore'\u001b[0m\u001b[0;34m)\u001b[0m\u001b[0;34m:\u001b[0m\u001b[0;34m\u001b[0m\u001b[0m\n\u001b[0m\u001b[1;32m    700\u001b[0m                 \u001b[0;32mreturn\u001b[0m \u001b[0mna_op\u001b[0m\u001b[0;34m(\u001b[0m\u001b[0mlvalues\u001b[0m\u001b[0;34m,\u001b[0m \u001b[0mrvalues\u001b[0m\u001b[0;34m)\u001b[0m\u001b[0;34m\u001b[0m\u001b[0m\n\u001b[1;32m    701\u001b[0m         \u001b[0;32mexcept\u001b[0m \u001b[0mException\u001b[0m\u001b[0;34m:\u001b[0m\u001b[0;34m\u001b[0m\u001b[0m\n",
      "\u001b[0;32m/usr/local/lib/python3.6/site-packages/numpy/core/numeric.py\u001b[0m in \u001b[0;36m__enter__\u001b[0;34m(self)\u001b[0m\n\u001b[1;32m   2856\u001b[0m \u001b[0;34m\u001b[0m\u001b[0m\n\u001b[1;32m   2857\u001b[0m     \u001b[0;32mdef\u001b[0m \u001b[0m__enter__\u001b[0m\u001b[0;34m(\u001b[0m\u001b[0mself\u001b[0m\u001b[0;34m)\u001b[0m\u001b[0;34m:\u001b[0m\u001b[0;34m\u001b[0m\u001b[0m\n\u001b[0;32m-> 2858\u001b[0;31m         \u001b[0mself\u001b[0m\u001b[0;34m.\u001b[0m\u001b[0moldstate\u001b[0m \u001b[0;34m=\u001b[0m \u001b[0mseterr\u001b[0m\u001b[0;34m(\u001b[0m\u001b[0;34m**\u001b[0m\u001b[0mself\u001b[0m\u001b[0;34m.\u001b[0m\u001b[0mkwargs\u001b[0m\u001b[0;34m)\u001b[0m\u001b[0;34m\u001b[0m\u001b[0m\n\u001b[0m\u001b[1;32m   2859\u001b[0m         \u001b[0;32mif\u001b[0m \u001b[0mself\u001b[0m\u001b[0;34m.\u001b[0m\u001b[0mcall\u001b[0m \u001b[0;32mis\u001b[0m \u001b[0;32mnot\u001b[0m \u001b[0m_Unspecified\u001b[0m\u001b[0;34m:\u001b[0m\u001b[0;34m\u001b[0m\u001b[0m\n\u001b[1;32m   2860\u001b[0m             \u001b[0mself\u001b[0m\u001b[0;34m.\u001b[0m\u001b[0moldcall\u001b[0m \u001b[0;34m=\u001b[0m \u001b[0mseterrcall\u001b[0m\u001b[0;34m(\u001b[0m\u001b[0mself\u001b[0m\u001b[0;34m.\u001b[0m\u001b[0mcall\u001b[0m\u001b[0;34m)\u001b[0m\u001b[0;34m\u001b[0m\u001b[0m\n",
      "\u001b[0;31mKeyboardInterrupt\u001b[0m: "
     ]
    }
   ],
   "source": [
    "get_weights_accumulation()"
   ]
  },
  {
   "cell_type": "code",
   "execution_count": null,
   "metadata": {},
   "outputs": [],
   "source": []
  },
  {
   "cell_type": "code",
   "execution_count": null,
   "metadata": {},
   "outputs": [],
   "source": []
  },
  {
   "cell_type": "code",
   "execution_count": null,
   "metadata": {},
   "outputs": [],
   "source": []
  },
  {
   "cell_type": "code",
   "execution_count": null,
   "metadata": {},
   "outputs": [],
   "source": []
  },
  {
   "cell_type": "code",
   "execution_count": null,
   "metadata": {},
   "outputs": [],
   "source": []
  },
  {
   "cell_type": "code",
   "execution_count": null,
   "metadata": {},
   "outputs": [],
   "source": []
  },
  {
   "cell_type": "code",
   "execution_count": null,
   "metadata": {},
   "outputs": [],
   "source": []
  }
 ],
 "metadata": {
  "kernelspec": {
   "display_name": "Python 3",
   "language": "python",
   "name": "python3"
  },
  "language_info": {
   "codemirror_mode": {
    "name": "ipython",
    "version": 3
   },
   "file_extension": ".py",
   "mimetype": "text/x-python",
   "name": "python",
   "nbconvert_exporter": "python",
   "pygments_lexer": "ipython3",
   "version": "3.6.5"
  }
 },
 "nbformat": 4,
 "nbformat_minor": 2
}
